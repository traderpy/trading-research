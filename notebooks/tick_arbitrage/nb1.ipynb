{
 "cells": [
  {
   "cell_type": "code",
   "execution_count": 1,
   "outputs": [],
   "source": [
    "import pandas as pd\n",
    "import MetaTrader5 as mt5\n",
    "import plotly.express as px\n",
    "from datetime import datetime, timedelta, time"
   ],
   "metadata": {
    "collapsed": false,
    "pycharm": {
     "name": "#%%\n"
    }
   }
  },
  {
   "cell_type": "code",
   "execution_count": 2,
   "outputs": [
    {
     "data": {
      "text/plain": "True"
     },
     "execution_count": 2,
     "metadata": {},
     "output_type": "execute_result"
    }
   ],
   "source": [
    "mt5.initialize()"
   ],
   "metadata": {
    "collapsed": false,
    "pycharm": {
     "name": "#%%\n"
    }
   }
  },
  {
   "cell_type": "code",
   "execution_count": 3,
   "outputs": [
    {
     "data": {
      "text/plain": "                            time       bid       ask  sell_arb  buy_arb  \\\n0        2023-07-31 22:00:00.123  29175.62  29185.79       NaN      NaN   \n1        2023-07-31 22:00:01.048  29175.62  29185.82    -10.20   -10.17   \n2        2023-07-31 22:00:01.632  29175.62  29185.86    -10.24   -10.20   \n3        2023-07-31 22:00:01.975  29175.66  29185.94    -10.32   -10.20   \n4        2023-07-31 22:00:02.185  29175.08  29185.66    -10.00   -10.86   \n...                          ...       ...       ...       ...      ...   \n10001708 2023-09-27 21:59:57.260  26218.45  26228.08     -8.43    -9.63   \n10001709 2023-09-27 21:59:57.489  26218.71  26226.93     -8.48    -9.37   \n10001710 2023-09-27 21:59:58.625  26219.45  26227.87     -9.16    -7.48   \n10001711 2023-09-27 21:59:58.825  26218.72  26227.93     -8.48    -9.15   \n10001712 2023-09-27 21:59:59.037  26219.70  26227.93     -9.21    -8.23   \n\n                      time_diff  day            time2  \n0                           NaT    0  22:00:00.123000  \n1        0 days 00:00:00.925000    0  22:00:01.048000  \n2        0 days 00:00:00.584000    0  22:00:01.632000  \n3        0 days 00:00:00.343000    0  22:00:01.975000  \n4        0 days 00:00:00.210000    0  22:00:02.185000  \n...                         ...  ...              ...  \n10001708 0 days 00:00:00.265000    2  21:59:57.260000  \n10001709 0 days 00:00:00.229000    2  21:59:57.489000  \n10001710 0 days 00:00:01.136000    2  21:59:58.625000  \n10001711 0 days 00:00:00.200000    2  21:59:58.825000  \n10001712 0 days 00:00:00.212000    2  21:59:59.037000  \n\n[10001713 rows x 8 columns]",
      "text/html": "<div>\n<style scoped>\n    .dataframe tbody tr th:only-of-type {\n        vertical-align: middle;\n    }\n\n    .dataframe tbody tr th {\n        vertical-align: top;\n    }\n\n    .dataframe thead th {\n        text-align: right;\n    }\n</style>\n<table border=\"1\" class=\"dataframe\">\n  <thead>\n    <tr style=\"text-align: right;\">\n      <th></th>\n      <th>time</th>\n      <th>bid</th>\n      <th>ask</th>\n      <th>sell_arb</th>\n      <th>buy_arb</th>\n      <th>time_diff</th>\n      <th>day</th>\n      <th>time2</th>\n    </tr>\n  </thead>\n  <tbody>\n    <tr>\n      <th>0</th>\n      <td>2023-07-31 22:00:00.123</td>\n      <td>29175.62</td>\n      <td>29185.79</td>\n      <td>NaN</td>\n      <td>NaN</td>\n      <td>NaT</td>\n      <td>0</td>\n      <td>22:00:00.123000</td>\n    </tr>\n    <tr>\n      <th>1</th>\n      <td>2023-07-31 22:00:01.048</td>\n      <td>29175.62</td>\n      <td>29185.82</td>\n      <td>-10.20</td>\n      <td>-10.17</td>\n      <td>0 days 00:00:00.925000</td>\n      <td>0</td>\n      <td>22:00:01.048000</td>\n    </tr>\n    <tr>\n      <th>2</th>\n      <td>2023-07-31 22:00:01.632</td>\n      <td>29175.62</td>\n      <td>29185.86</td>\n      <td>-10.24</td>\n      <td>-10.20</td>\n      <td>0 days 00:00:00.584000</td>\n      <td>0</td>\n      <td>22:00:01.632000</td>\n    </tr>\n    <tr>\n      <th>3</th>\n      <td>2023-07-31 22:00:01.975</td>\n      <td>29175.66</td>\n      <td>29185.94</td>\n      <td>-10.32</td>\n      <td>-10.20</td>\n      <td>0 days 00:00:00.343000</td>\n      <td>0</td>\n      <td>22:00:01.975000</td>\n    </tr>\n    <tr>\n      <th>4</th>\n      <td>2023-07-31 22:00:02.185</td>\n      <td>29175.08</td>\n      <td>29185.66</td>\n      <td>-10.00</td>\n      <td>-10.86</td>\n      <td>0 days 00:00:00.210000</td>\n      <td>0</td>\n      <td>22:00:02.185000</td>\n    </tr>\n    <tr>\n      <th>...</th>\n      <td>...</td>\n      <td>...</td>\n      <td>...</td>\n      <td>...</td>\n      <td>...</td>\n      <td>...</td>\n      <td>...</td>\n      <td>...</td>\n    </tr>\n    <tr>\n      <th>10001708</th>\n      <td>2023-09-27 21:59:57.260</td>\n      <td>26218.45</td>\n      <td>26228.08</td>\n      <td>-8.43</td>\n      <td>-9.63</td>\n      <td>0 days 00:00:00.265000</td>\n      <td>2</td>\n      <td>21:59:57.260000</td>\n    </tr>\n    <tr>\n      <th>10001709</th>\n      <td>2023-09-27 21:59:57.489</td>\n      <td>26218.71</td>\n      <td>26226.93</td>\n      <td>-8.48</td>\n      <td>-9.37</td>\n      <td>0 days 00:00:00.229000</td>\n      <td>2</td>\n      <td>21:59:57.489000</td>\n    </tr>\n    <tr>\n      <th>10001710</th>\n      <td>2023-09-27 21:59:58.625</td>\n      <td>26219.45</td>\n      <td>26227.87</td>\n      <td>-9.16</td>\n      <td>-7.48</td>\n      <td>0 days 00:00:01.136000</td>\n      <td>2</td>\n      <td>21:59:58.625000</td>\n    </tr>\n    <tr>\n      <th>10001711</th>\n      <td>2023-09-27 21:59:58.825</td>\n      <td>26218.72</td>\n      <td>26227.93</td>\n      <td>-8.48</td>\n      <td>-9.15</td>\n      <td>0 days 00:00:00.200000</td>\n      <td>2</td>\n      <td>21:59:58.825000</td>\n    </tr>\n    <tr>\n      <th>10001712</th>\n      <td>2023-09-27 21:59:59.037</td>\n      <td>26219.70</td>\n      <td>26227.93</td>\n      <td>-9.21</td>\n      <td>-8.23</td>\n      <td>0 days 00:00:00.212000</td>\n      <td>2</td>\n      <td>21:59:59.037000</td>\n    </tr>\n  </tbody>\n</table>\n<p>10001713 rows × 8 columns</p>\n</div>"
     },
     "execution_count": 3,
     "metadata": {},
     "output_type": "execute_result"
    }
   ],
   "source": [
    "start = datetime(2023, 8, 1)\n",
    "end = datetime(2023, 9, 28)\n",
    "\n",
    "symbol = \"BTCUSD\"\n",
    "\n",
    "ticks = mt5.copy_ticks_range(symbol, start, end, mt5.COPY_TICKS_ALL)\n",
    "ticks = pd.DataFrame(ticks)\n",
    "\n",
    "ticks['time'] = pd.to_datetime(ticks['time_msc'], unit='ms')\n",
    "ticks = ticks[['time', 'bid', 'ask']]\n",
    "\n",
    "\n",
    "ticks['sell_arb'] = ticks['bid'].shift(1) - ticks['ask']\n",
    "ticks['buy_arb'] = ticks['bid'] - ticks['ask'].shift(1)\n",
    "ticks['time_diff'] = ticks['time'] - ticks['time'].shift(1)\n",
    "ticks['day'] = ticks['time'].dt.dayofweek\n",
    "ticks['time2'] = ticks['time'].apply(lambda x: x.time())\n",
    "\n",
    "\n",
    "ticks"
   ],
   "metadata": {
    "collapsed": false,
    "pycharm": {
     "name": "#%%\n"
    }
   }
  },
  {
   "cell_type": "code",
   "execution_count": 4,
   "outputs": [
    {
     "data": {
      "text/plain": "                            time       bid       ask  sell_arb  buy_arb  \\\n1        2023-07-31 22:00:01.048  29175.62  29185.82    -10.20   -10.17   \n2        2023-07-31 22:00:01.632  29175.62  29185.86    -10.24   -10.20   \n3        2023-07-31 22:00:01.975  29175.66  29185.94    -10.32   -10.20   \n4        2023-07-31 22:00:02.185  29175.08  29185.66    -10.00   -10.86   \n5        2023-07-31 22:00:02.476  29176.40  29187.19    -12.11    -9.26   \n...                          ...       ...       ...       ...      ...   \n10001708 2023-09-27 21:59:57.260  26218.45  26228.08     -8.43    -9.63   \n10001709 2023-09-27 21:59:57.489  26218.71  26226.93     -8.48    -9.37   \n10001710 2023-09-27 21:59:58.625  26219.45  26227.87     -9.16    -7.48   \n10001711 2023-09-27 21:59:58.825  26218.72  26227.93     -8.48    -9.15   \n10001712 2023-09-27 21:59:59.037  26219.70  26227.93     -9.21    -8.23   \n\n                      time_diff  day            time2  \n1        0 days 00:00:00.925000    0  22:00:01.048000  \n2        0 days 00:00:00.584000    0  22:00:01.632000  \n3        0 days 00:00:00.343000    0  22:00:01.975000  \n4        0 days 00:00:00.210000    0  22:00:02.185000  \n5        0 days 00:00:00.291000    0  22:00:02.476000  \n...                         ...  ...              ...  \n10001708 0 days 00:00:00.265000    2  21:59:57.260000  \n10001709 0 days 00:00:00.229000    2  21:59:57.489000  \n10001710 0 days 00:00:01.136000    2  21:59:58.625000  \n10001711 0 days 00:00:00.200000    2  21:59:58.825000  \n10001712 0 days 00:00:00.212000    2  21:59:59.037000  \n\n[1085615 rows x 8 columns]",
      "text/html": "<div>\n<style scoped>\n    .dataframe tbody tr th:only-of-type {\n        vertical-align: middle;\n    }\n\n    .dataframe tbody tr th {\n        vertical-align: top;\n    }\n\n    .dataframe thead th {\n        text-align: right;\n    }\n</style>\n<table border=\"1\" class=\"dataframe\">\n  <thead>\n    <tr style=\"text-align: right;\">\n      <th></th>\n      <th>time</th>\n      <th>bid</th>\n      <th>ask</th>\n      <th>sell_arb</th>\n      <th>buy_arb</th>\n      <th>time_diff</th>\n      <th>day</th>\n      <th>time2</th>\n    </tr>\n  </thead>\n  <tbody>\n    <tr>\n      <th>1</th>\n      <td>2023-07-31 22:00:01.048</td>\n      <td>29175.62</td>\n      <td>29185.82</td>\n      <td>-10.20</td>\n      <td>-10.17</td>\n      <td>0 days 00:00:00.925000</td>\n      <td>0</td>\n      <td>22:00:01.048000</td>\n    </tr>\n    <tr>\n      <th>2</th>\n      <td>2023-07-31 22:00:01.632</td>\n      <td>29175.62</td>\n      <td>29185.86</td>\n      <td>-10.24</td>\n      <td>-10.20</td>\n      <td>0 days 00:00:00.584000</td>\n      <td>0</td>\n      <td>22:00:01.632000</td>\n    </tr>\n    <tr>\n      <th>3</th>\n      <td>2023-07-31 22:00:01.975</td>\n      <td>29175.66</td>\n      <td>29185.94</td>\n      <td>-10.32</td>\n      <td>-10.20</td>\n      <td>0 days 00:00:00.343000</td>\n      <td>0</td>\n      <td>22:00:01.975000</td>\n    </tr>\n    <tr>\n      <th>4</th>\n      <td>2023-07-31 22:00:02.185</td>\n      <td>29175.08</td>\n      <td>29185.66</td>\n      <td>-10.00</td>\n      <td>-10.86</td>\n      <td>0 days 00:00:00.210000</td>\n      <td>0</td>\n      <td>22:00:02.185000</td>\n    </tr>\n    <tr>\n      <th>5</th>\n      <td>2023-07-31 22:00:02.476</td>\n      <td>29176.40</td>\n      <td>29187.19</td>\n      <td>-12.11</td>\n      <td>-9.26</td>\n      <td>0 days 00:00:00.291000</td>\n      <td>0</td>\n      <td>22:00:02.476000</td>\n    </tr>\n    <tr>\n      <th>...</th>\n      <td>...</td>\n      <td>...</td>\n      <td>...</td>\n      <td>...</td>\n      <td>...</td>\n      <td>...</td>\n      <td>...</td>\n      <td>...</td>\n    </tr>\n    <tr>\n      <th>10001708</th>\n      <td>2023-09-27 21:59:57.260</td>\n      <td>26218.45</td>\n      <td>26228.08</td>\n      <td>-8.43</td>\n      <td>-9.63</td>\n      <td>0 days 00:00:00.265000</td>\n      <td>2</td>\n      <td>21:59:57.260000</td>\n    </tr>\n    <tr>\n      <th>10001709</th>\n      <td>2023-09-27 21:59:57.489</td>\n      <td>26218.71</td>\n      <td>26226.93</td>\n      <td>-8.48</td>\n      <td>-9.37</td>\n      <td>0 days 00:00:00.229000</td>\n      <td>2</td>\n      <td>21:59:57.489000</td>\n    </tr>\n    <tr>\n      <th>10001710</th>\n      <td>2023-09-27 21:59:58.625</td>\n      <td>26219.45</td>\n      <td>26227.87</td>\n      <td>-9.16</td>\n      <td>-7.48</td>\n      <td>0 days 00:00:01.136000</td>\n      <td>2</td>\n      <td>21:59:58.625000</td>\n    </tr>\n    <tr>\n      <th>10001711</th>\n      <td>2023-09-27 21:59:58.825</td>\n      <td>26218.72</td>\n      <td>26227.93</td>\n      <td>-8.48</td>\n      <td>-9.15</td>\n      <td>0 days 00:00:00.200000</td>\n      <td>2</td>\n      <td>21:59:58.825000</td>\n    </tr>\n    <tr>\n      <th>10001712</th>\n      <td>2023-09-27 21:59:59.037</td>\n      <td>26219.70</td>\n      <td>26227.93</td>\n      <td>-9.21</td>\n      <td>-8.23</td>\n      <td>0 days 00:00:00.212000</td>\n      <td>2</td>\n      <td>21:59:59.037000</td>\n    </tr>\n  </tbody>\n</table>\n<p>1085615 rows × 8 columns</p>\n</div>"
     },
     "execution_count": 4,
     "metadata": {},
     "output_type": "execute_result"
    }
   ],
   "source": [
    "cond1 = ticks['time'].dt.time > time(21, 30, 0)\n",
    "cond2 = ticks['time_diff'] < timedelta(minutes=5)\n",
    "ticks2 = ticks[cond1 & cond2]\n",
    "\n",
    "ticks2"
   ],
   "metadata": {
    "collapsed": false,
    "pycharm": {
     "name": "#%%\n"
    }
   }
  },
  {
   "cell_type": "code",
   "execution_count": 4,
   "outputs": [],
   "source": [],
   "metadata": {
    "collapsed": false,
    "pycharm": {
     "name": "#%%\n"
    }
   }
  }
 ],
 "metadata": {
  "kernelspec": {
   "display_name": "Python 3",
   "language": "python",
   "name": "python3"
  },
  "language_info": {
   "codemirror_mode": {
    "name": "ipython",
    "version": 2
   },
   "file_extension": ".py",
   "mimetype": "text/x-python",
   "name": "python",
   "nbconvert_exporter": "python",
   "pygments_lexer": "ipython2",
   "version": "2.7.6"
  }
 },
 "nbformat": 4,
 "nbformat_minor": 0
}