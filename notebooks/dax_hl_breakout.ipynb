{
 "cells": [
  {
   "cell_type": "code",
   "execution_count": 3,
   "outputs": [],
   "source": [
    "import pandas as pd\n",
    "import plotly.express as px\n",
    "from datetime import datetime, time, timedelta\n",
    "import MetaTrader5 as mt5"
   ],
   "metadata": {
    "collapsed": false,
    "pycharm": {
     "name": "#%%\n"
    }
   }
  },
  {
   "cell_type": "code",
   "execution_count": 26,
   "outputs": [],
   "source": [
    "mt5.initialize()\n",
    "\n",
    "def get_rates(symbol, timeframe, start_dt, end_dt):\n",
    "    rates = mt5.copy_rates_range(symbol, timeframe, start_dt, end_dt)\n",
    "    rates_df = pd.DataFrame(rates)\n",
    "\n",
    "    rates_df['time'] = pd.to_datetime(rates_df['time'], unit='s')\n",
    "    rates_df['perc'] = (rates_df['close'] - rates_df['open']) / rates_df['open']\n",
    "    rates_df['perc_cumsum'] = rates_df['perc'].cumsum()\n",
    "\n",
    "    return rates_df[['time', 'open', 'high', 'low', 'close', 'perc', 'perc_cumsum']]\n",
    "\n",
    "def get_ticks(symbol, start_dt, end_dt):\n",
    "    ticks = mt5.copy_ticks_range(symbol, start_dt, end_dt, mt5.COPY_TICKS_ALL)\n",
    "    ticks_df = pd.DataFrame(ticks)\n",
    "\n",
    "    ticks_df['time'] = pd.to_datetime(ticks_df['time'], unit='s')\n",
    "\n",
    "    return ticks_df[['time', 'bid', 'ask']]"
   ],
   "metadata": {
    "collapsed": false,
    "pycharm": {
     "name": "#%%\n"
    }
   }
  },
  {
   "cell_type": "code",
   "execution_count": 27,
   "outputs": [
    {
     "data": {
      "text/plain": "                       time      bid      ask\n0       2023-08-09 17:50:36  15902.7  15903.2\n1       2023-08-09 17:50:37  15903.2  15903.7\n2       2023-08-09 17:50:37  15902.7  15903.2\n3       2023-08-09 17:50:38  15903.2  15903.7\n4       2023-08-09 17:50:39  15902.7  15903.2\n...                     ...      ...      ...\n1597011 2023-10-06 22:59:48  15278.5  15279.7\n1597012 2023-10-06 22:59:52  15277.0  15278.2\n1597013 2023-10-06 22:59:55  15277.5  15278.7\n1597014 2023-10-06 22:59:59  15279.0  15280.2\n1597015 2023-10-06 22:59:59  15279.5  15280.7\n\n[1597016 rows x 3 columns]",
      "text/html": "<div>\n<style scoped>\n    .dataframe tbody tr th:only-of-type {\n        vertical-align: middle;\n    }\n\n    .dataframe tbody tr th {\n        vertical-align: top;\n    }\n\n    .dataframe thead th {\n        text-align: right;\n    }\n</style>\n<table border=\"1\" class=\"dataframe\">\n  <thead>\n    <tr style=\"text-align: right;\">\n      <th></th>\n      <th>time</th>\n      <th>bid</th>\n      <th>ask</th>\n    </tr>\n  </thead>\n  <tbody>\n    <tr>\n      <th>0</th>\n      <td>2023-08-09 17:50:36</td>\n      <td>15902.7</td>\n      <td>15903.2</td>\n    </tr>\n    <tr>\n      <th>1</th>\n      <td>2023-08-09 17:50:37</td>\n      <td>15903.2</td>\n      <td>15903.7</td>\n    </tr>\n    <tr>\n      <th>2</th>\n      <td>2023-08-09 17:50:37</td>\n      <td>15902.7</td>\n      <td>15903.2</td>\n    </tr>\n    <tr>\n      <th>3</th>\n      <td>2023-08-09 17:50:38</td>\n      <td>15903.2</td>\n      <td>15903.7</td>\n    </tr>\n    <tr>\n      <th>4</th>\n      <td>2023-08-09 17:50:39</td>\n      <td>15902.7</td>\n      <td>15903.2</td>\n    </tr>\n    <tr>\n      <th>...</th>\n      <td>...</td>\n      <td>...</td>\n      <td>...</td>\n    </tr>\n    <tr>\n      <th>1597011</th>\n      <td>2023-10-06 22:59:48</td>\n      <td>15278.5</td>\n      <td>15279.7</td>\n    </tr>\n    <tr>\n      <th>1597012</th>\n      <td>2023-10-06 22:59:52</td>\n      <td>15277.0</td>\n      <td>15278.2</td>\n    </tr>\n    <tr>\n      <th>1597013</th>\n      <td>2023-10-06 22:59:55</td>\n      <td>15277.5</td>\n      <td>15278.7</td>\n    </tr>\n    <tr>\n      <th>1597014</th>\n      <td>2023-10-06 22:59:59</td>\n      <td>15279.0</td>\n      <td>15280.2</td>\n    </tr>\n    <tr>\n      <th>1597015</th>\n      <td>2023-10-06 22:59:59</td>\n      <td>15279.5</td>\n      <td>15280.7</td>\n    </tr>\n  </tbody>\n</table>\n<p>1597016 rows × 3 columns</p>\n</div>"
     },
     "execution_count": 27,
     "metadata": {},
     "output_type": "execute_result"
    }
   ],
   "source": [
    "symbol = 'DE40'\n",
    "\n",
    "start = datetime.now() - timedelta(days=60)\n",
    "end = datetime.now()\n",
    "\n",
    "ticks = get_ticks(symbol, start, end)\n",
    "ticks"
   ],
   "metadata": {
    "collapsed": false,
    "pycharm": {
     "name": "#%%\n"
    }
   }
  },
  {
   "cell_type": "code",
   "execution_count": 28,
   "outputs": [
    {
     "data": {
      "text/plain": "                       time      bid      ask        date\n0       2023-08-09 17:50:36  15902.7  15903.2  2023-08-09\n1       2023-08-09 17:50:37  15903.2  15903.7  2023-08-09\n2       2023-08-09 17:50:37  15902.7  15903.2  2023-08-09\n3       2023-08-09 17:50:38  15903.2  15903.7  2023-08-09\n4       2023-08-09 17:50:39  15902.7  15903.2  2023-08-09\n...                     ...      ...      ...         ...\n1597011 2023-10-06 22:59:48  15278.5  15279.7  2023-10-06\n1597012 2023-10-06 22:59:52  15277.0  15278.2  2023-10-06\n1597013 2023-10-06 22:59:55  15277.5  15278.7  2023-10-06\n1597014 2023-10-06 22:59:59  15279.0  15280.2  2023-10-06\n1597015 2023-10-06 22:59:59  15279.5  15280.7  2023-10-06\n\n[1597016 rows x 4 columns]",
      "text/html": "<div>\n<style scoped>\n    .dataframe tbody tr th:only-of-type {\n        vertical-align: middle;\n    }\n\n    .dataframe tbody tr th {\n        vertical-align: top;\n    }\n\n    .dataframe thead th {\n        text-align: right;\n    }\n</style>\n<table border=\"1\" class=\"dataframe\">\n  <thead>\n    <tr style=\"text-align: right;\">\n      <th></th>\n      <th>time</th>\n      <th>bid</th>\n      <th>ask</th>\n      <th>date</th>\n    </tr>\n  </thead>\n  <tbody>\n    <tr>\n      <th>0</th>\n      <td>2023-08-09 17:50:36</td>\n      <td>15902.7</td>\n      <td>15903.2</td>\n      <td>2023-08-09</td>\n    </tr>\n    <tr>\n      <th>1</th>\n      <td>2023-08-09 17:50:37</td>\n      <td>15903.2</td>\n      <td>15903.7</td>\n      <td>2023-08-09</td>\n    </tr>\n    <tr>\n      <th>2</th>\n      <td>2023-08-09 17:50:37</td>\n      <td>15902.7</td>\n      <td>15903.2</td>\n      <td>2023-08-09</td>\n    </tr>\n    <tr>\n      <th>3</th>\n      <td>2023-08-09 17:50:38</td>\n      <td>15903.2</td>\n      <td>15903.7</td>\n      <td>2023-08-09</td>\n    </tr>\n    <tr>\n      <th>4</th>\n      <td>2023-08-09 17:50:39</td>\n      <td>15902.7</td>\n      <td>15903.2</td>\n      <td>2023-08-09</td>\n    </tr>\n    <tr>\n      <th>...</th>\n      <td>...</td>\n      <td>...</td>\n      <td>...</td>\n      <td>...</td>\n    </tr>\n    <tr>\n      <th>1597011</th>\n      <td>2023-10-06 22:59:48</td>\n      <td>15278.5</td>\n      <td>15279.7</td>\n      <td>2023-10-06</td>\n    </tr>\n    <tr>\n      <th>1597012</th>\n      <td>2023-10-06 22:59:52</td>\n      <td>15277.0</td>\n      <td>15278.2</td>\n      <td>2023-10-06</td>\n    </tr>\n    <tr>\n      <th>1597013</th>\n      <td>2023-10-06 22:59:55</td>\n      <td>15277.5</td>\n      <td>15278.7</td>\n      <td>2023-10-06</td>\n    </tr>\n    <tr>\n      <th>1597014</th>\n      <td>2023-10-06 22:59:59</td>\n      <td>15279.0</td>\n      <td>15280.2</td>\n      <td>2023-10-06</td>\n    </tr>\n    <tr>\n      <th>1597015</th>\n      <td>2023-10-06 22:59:59</td>\n      <td>15279.5</td>\n      <td>15280.7</td>\n      <td>2023-10-06</td>\n    </tr>\n  </tbody>\n</table>\n<p>1597016 rows × 4 columns</p>\n</div>"
     },
     "execution_count": 28,
     "metadata": {},
     "output_type": "execute_result"
    }
   ],
   "source": [
    "ticks['date'] = ticks['time'].dt.date\n",
    "ticks"
   ],
   "metadata": {
    "collapsed": false,
    "pycharm": {
     "name": "#%%\n"
    }
   }
  },
  {
   "cell_type": "code",
   "execution_count": 29,
   "outputs": [
    {
     "data": {
      "text/plain": "          date     high      low  prev_high  prev_low\n1   2023-08-10  16062.6  15874.6    15931.1   15829.2\n2   2023-08-11  15976.7  15799.1    16062.6   15874.6\n3   2023-08-14  15941.9  15751.6    15976.7   15799.1\n4   2023-08-15  15965.2  15699.8    15941.9   15751.6\n5   2023-08-16  15817.8  15669.2    15965.2   15699.8\n6   2023-08-17  15796.9  15593.9    15817.8   15669.2\n7   2023-08-18  15665.7  15468.1    15796.9   15593.9\n8   2023-08-21  15712.3  15562.5    15665.7   15468.1\n9   2023-08-22  15798.9  15616.6    15712.3   15562.5\n10  2023-08-23  15827.7  15669.7    15798.9   15616.6\n11  2023-08-24  15895.4  15536.4    15827.7   15669.7\n12  2023-08-25  15742.1  15554.4    15895.4   15536.4\n13  2023-08-28  15827.6  15670.9    15742.1   15554.4\n14  2023-08-29  15977.4  15795.3    15827.6   15670.9\n15  2023-08-30  16008.2  15819.9    15977.4   15795.3\n16  2023-08-31  16043.7  15894.9    16008.2   15819.9\n17  2023-09-01  16009.1  15822.8    16043.7   15894.9\n18  2023-09-04  15963.1  15795.4    16009.1   15822.8\n19  2023-09-05  15840.1  15689.1    15963.1   15795.4\n20  2023-09-06  15784.4  15673.9    15840.1   15689.1\n21  2023-09-07  15796.7  15649.4    15784.4   15673.9\n22  2023-09-08  15787.0  15574.9    15796.7   15649.4\n23  2023-09-11  15871.6  15719.7    15787.0   15574.9\n24  2023-09-12  15837.3  15683.5    15871.6   15719.7\n25  2023-09-13  15737.7  15559.3    15837.3   15683.5\n26  2023-09-14  15882.4  15586.4    15737.7   15559.3\n27  2023-09-15  15992.0  15848.6    15882.4   15586.4\n28  2023-09-18  15907.7  15691.5    15992.0   15848.6\n29  2023-09-19  15748.0  15628.2    15907.7   15691.5\n30  2023-09-20  15811.2  15652.8    15748.0   15628.2\n31  2023-09-21  15716.1  15463.5    15811.2   15652.8\n32  2023-09-22  15592.1  15451.7    15716.1   15463.5\n33  2023-09-25  15575.3  15327.1    15592.1   15451.7\n34  2023-09-26  15435.8  15200.7    15575.3   15327.1\n35  2023-09-27  15298.2  15131.9    15435.8   15200.7\n36  2023-09-28  15370.6  15136.3    15298.2   15131.9\n37  2023-09-29  15517.8  15292.7    15370.6   15136.3\n38  2023-10-02  15480.3  15165.8    15517.8   15292.7\n39  2023-10-03  15261.4  15058.0    15480.3   15165.8\n40  2023-10-04  15176.8  14943.8    15261.4   15058.0\n41  2023-10-05  15177.6  15046.6    15176.8   14943.8",
      "text/html": "<div>\n<style scoped>\n    .dataframe tbody tr th:only-of-type {\n        vertical-align: middle;\n    }\n\n    .dataframe tbody tr th {\n        vertical-align: top;\n    }\n\n    .dataframe thead th {\n        text-align: right;\n    }\n</style>\n<table border=\"1\" class=\"dataframe\">\n  <thead>\n    <tr style=\"text-align: right;\">\n      <th></th>\n      <th>date</th>\n      <th>high</th>\n      <th>low</th>\n      <th>prev_high</th>\n      <th>prev_low</th>\n    </tr>\n  </thead>\n  <tbody>\n    <tr>\n      <th>1</th>\n      <td>2023-08-10</td>\n      <td>16062.6</td>\n      <td>15874.6</td>\n      <td>15931.1</td>\n      <td>15829.2</td>\n    </tr>\n    <tr>\n      <th>2</th>\n      <td>2023-08-11</td>\n      <td>15976.7</td>\n      <td>15799.1</td>\n      <td>16062.6</td>\n      <td>15874.6</td>\n    </tr>\n    <tr>\n      <th>3</th>\n      <td>2023-08-14</td>\n      <td>15941.9</td>\n      <td>15751.6</td>\n      <td>15976.7</td>\n      <td>15799.1</td>\n    </tr>\n    <tr>\n      <th>4</th>\n      <td>2023-08-15</td>\n      <td>15965.2</td>\n      <td>15699.8</td>\n      <td>15941.9</td>\n      <td>15751.6</td>\n    </tr>\n    <tr>\n      <th>5</th>\n      <td>2023-08-16</td>\n      <td>15817.8</td>\n      <td>15669.2</td>\n      <td>15965.2</td>\n      <td>15699.8</td>\n    </tr>\n    <tr>\n      <th>6</th>\n      <td>2023-08-17</td>\n      <td>15796.9</td>\n      <td>15593.9</td>\n      <td>15817.8</td>\n      <td>15669.2</td>\n    </tr>\n    <tr>\n      <th>7</th>\n      <td>2023-08-18</td>\n      <td>15665.7</td>\n      <td>15468.1</td>\n      <td>15796.9</td>\n      <td>15593.9</td>\n    </tr>\n    <tr>\n      <th>8</th>\n      <td>2023-08-21</td>\n      <td>15712.3</td>\n      <td>15562.5</td>\n      <td>15665.7</td>\n      <td>15468.1</td>\n    </tr>\n    <tr>\n      <th>9</th>\n      <td>2023-08-22</td>\n      <td>15798.9</td>\n      <td>15616.6</td>\n      <td>15712.3</td>\n      <td>15562.5</td>\n    </tr>\n    <tr>\n      <th>10</th>\n      <td>2023-08-23</td>\n      <td>15827.7</td>\n      <td>15669.7</td>\n      <td>15798.9</td>\n      <td>15616.6</td>\n    </tr>\n    <tr>\n      <th>11</th>\n      <td>2023-08-24</td>\n      <td>15895.4</td>\n      <td>15536.4</td>\n      <td>15827.7</td>\n      <td>15669.7</td>\n    </tr>\n    <tr>\n      <th>12</th>\n      <td>2023-08-25</td>\n      <td>15742.1</td>\n      <td>15554.4</td>\n      <td>15895.4</td>\n      <td>15536.4</td>\n    </tr>\n    <tr>\n      <th>13</th>\n      <td>2023-08-28</td>\n      <td>15827.6</td>\n      <td>15670.9</td>\n      <td>15742.1</td>\n      <td>15554.4</td>\n    </tr>\n    <tr>\n      <th>14</th>\n      <td>2023-08-29</td>\n      <td>15977.4</td>\n      <td>15795.3</td>\n      <td>15827.6</td>\n      <td>15670.9</td>\n    </tr>\n    <tr>\n      <th>15</th>\n      <td>2023-08-30</td>\n      <td>16008.2</td>\n      <td>15819.9</td>\n      <td>15977.4</td>\n      <td>15795.3</td>\n    </tr>\n    <tr>\n      <th>16</th>\n      <td>2023-08-31</td>\n      <td>16043.7</td>\n      <td>15894.9</td>\n      <td>16008.2</td>\n      <td>15819.9</td>\n    </tr>\n    <tr>\n      <th>17</th>\n      <td>2023-09-01</td>\n      <td>16009.1</td>\n      <td>15822.8</td>\n      <td>16043.7</td>\n      <td>15894.9</td>\n    </tr>\n    <tr>\n      <th>18</th>\n      <td>2023-09-04</td>\n      <td>15963.1</td>\n      <td>15795.4</td>\n      <td>16009.1</td>\n      <td>15822.8</td>\n    </tr>\n    <tr>\n      <th>19</th>\n      <td>2023-09-05</td>\n      <td>15840.1</td>\n      <td>15689.1</td>\n      <td>15963.1</td>\n      <td>15795.4</td>\n    </tr>\n    <tr>\n      <th>20</th>\n      <td>2023-09-06</td>\n      <td>15784.4</td>\n      <td>15673.9</td>\n      <td>15840.1</td>\n      <td>15689.1</td>\n    </tr>\n    <tr>\n      <th>21</th>\n      <td>2023-09-07</td>\n      <td>15796.7</td>\n      <td>15649.4</td>\n      <td>15784.4</td>\n      <td>15673.9</td>\n    </tr>\n    <tr>\n      <th>22</th>\n      <td>2023-09-08</td>\n      <td>15787.0</td>\n      <td>15574.9</td>\n      <td>15796.7</td>\n      <td>15649.4</td>\n    </tr>\n    <tr>\n      <th>23</th>\n      <td>2023-09-11</td>\n      <td>15871.6</td>\n      <td>15719.7</td>\n      <td>15787.0</td>\n      <td>15574.9</td>\n    </tr>\n    <tr>\n      <th>24</th>\n      <td>2023-09-12</td>\n      <td>15837.3</td>\n      <td>15683.5</td>\n      <td>15871.6</td>\n      <td>15719.7</td>\n    </tr>\n    <tr>\n      <th>25</th>\n      <td>2023-09-13</td>\n      <td>15737.7</td>\n      <td>15559.3</td>\n      <td>15837.3</td>\n      <td>15683.5</td>\n    </tr>\n    <tr>\n      <th>26</th>\n      <td>2023-09-14</td>\n      <td>15882.4</td>\n      <td>15586.4</td>\n      <td>15737.7</td>\n      <td>15559.3</td>\n    </tr>\n    <tr>\n      <th>27</th>\n      <td>2023-09-15</td>\n      <td>15992.0</td>\n      <td>15848.6</td>\n      <td>15882.4</td>\n      <td>15586.4</td>\n    </tr>\n    <tr>\n      <th>28</th>\n      <td>2023-09-18</td>\n      <td>15907.7</td>\n      <td>15691.5</td>\n      <td>15992.0</td>\n      <td>15848.6</td>\n    </tr>\n    <tr>\n      <th>29</th>\n      <td>2023-09-19</td>\n      <td>15748.0</td>\n      <td>15628.2</td>\n      <td>15907.7</td>\n      <td>15691.5</td>\n    </tr>\n    <tr>\n      <th>30</th>\n      <td>2023-09-20</td>\n      <td>15811.2</td>\n      <td>15652.8</td>\n      <td>15748.0</td>\n      <td>15628.2</td>\n    </tr>\n    <tr>\n      <th>31</th>\n      <td>2023-09-21</td>\n      <td>15716.1</td>\n      <td>15463.5</td>\n      <td>15811.2</td>\n      <td>15652.8</td>\n    </tr>\n    <tr>\n      <th>32</th>\n      <td>2023-09-22</td>\n      <td>15592.1</td>\n      <td>15451.7</td>\n      <td>15716.1</td>\n      <td>15463.5</td>\n    </tr>\n    <tr>\n      <th>33</th>\n      <td>2023-09-25</td>\n      <td>15575.3</td>\n      <td>15327.1</td>\n      <td>15592.1</td>\n      <td>15451.7</td>\n    </tr>\n    <tr>\n      <th>34</th>\n      <td>2023-09-26</td>\n      <td>15435.8</td>\n      <td>15200.7</td>\n      <td>15575.3</td>\n      <td>15327.1</td>\n    </tr>\n    <tr>\n      <th>35</th>\n      <td>2023-09-27</td>\n      <td>15298.2</td>\n      <td>15131.9</td>\n      <td>15435.8</td>\n      <td>15200.7</td>\n    </tr>\n    <tr>\n      <th>36</th>\n      <td>2023-09-28</td>\n      <td>15370.6</td>\n      <td>15136.3</td>\n      <td>15298.2</td>\n      <td>15131.9</td>\n    </tr>\n    <tr>\n      <th>37</th>\n      <td>2023-09-29</td>\n      <td>15517.8</td>\n      <td>15292.7</td>\n      <td>15370.6</td>\n      <td>15136.3</td>\n    </tr>\n    <tr>\n      <th>38</th>\n      <td>2023-10-02</td>\n      <td>15480.3</td>\n      <td>15165.8</td>\n      <td>15517.8</td>\n      <td>15292.7</td>\n    </tr>\n    <tr>\n      <th>39</th>\n      <td>2023-10-03</td>\n      <td>15261.4</td>\n      <td>15058.0</td>\n      <td>15480.3</td>\n      <td>15165.8</td>\n    </tr>\n    <tr>\n      <th>40</th>\n      <td>2023-10-04</td>\n      <td>15176.8</td>\n      <td>14943.8</td>\n      <td>15261.4</td>\n      <td>15058.0</td>\n    </tr>\n    <tr>\n      <th>41</th>\n      <td>2023-10-05</td>\n      <td>15177.6</td>\n      <td>15046.6</td>\n      <td>15176.8</td>\n      <td>14943.8</td>\n    </tr>\n  </tbody>\n</table>\n</div>"
     },
     "execution_count": 29,
     "metadata": {},
     "output_type": "execute_result"
    }
   ],
   "source": [
    "ticks2 = ticks.groupby('date', as_index=False).agg(\n",
    "    high=('ask', 'max'),\n",
    "    low=('bid', 'min')\n",
    ")\n",
    "ticks2['prev_high'] = ticks2['high'].shift(1)\n",
    "ticks2['prev_low'] = ticks2['low'].shift(1)\n",
    "\n",
    "ticks2 = ticks2[1:-1]\n",
    "ticks2"
   ],
   "metadata": {
    "collapsed": false,
    "pycharm": {
     "name": "#%%\n"
    }
   }
  },
  {
   "cell_type": "code",
   "execution_count": 33,
   "outputs": [
    {
     "data": {
      "text/plain": "                       time      bid      ask        date  prev_high  \\\n0       2023-08-10 01:02:15  15901.5  15907.5  2023-08-10    15931.1   \n1       2023-08-10 01:02:21  15901.3  15907.3  2023-08-10    15931.1   \n2       2023-08-10 01:02:23  15901.1  15907.1  2023-08-10    15931.1   \n3       2023-08-10 01:02:26  15901.5  15907.5  2023-08-10    15931.1   \n4       2023-08-10 01:02:31  15901.3  15907.3  2023-08-10    15931.1   \n...                     ...      ...      ...         ...        ...   \n1543055 2023-10-05 23:58:22  15102.1  15108.1  2023-10-05    15176.8   \n1543056 2023-10-05 23:58:31  15101.9  15107.9  2023-10-05    15176.8   \n1543057 2023-10-05 23:58:44  15101.6  15107.6  2023-10-05    15176.8   \n1543058 2023-10-05 23:58:51  15101.4  15107.4  2023-10-05    15176.8   \n1543059 2023-10-05 23:58:51  15101.6  15107.6  2023-10-05    15176.8   \n\n         prev_low  break_high  break_low  \n0         15829.2           0          0  \n1         15829.2           0          0  \n2         15829.2           0          0  \n3         15829.2           0          0  \n4         15829.2           0          0  \n...           ...         ...        ...  \n1543055   14943.8           0          0  \n1543056   14943.8           0          0  \n1543057   14943.8           0          0  \n1543058   14943.8           0          0  \n1543059   14943.8           0          0  \n\n[1543060 rows x 8 columns]",
      "text/html": "<div>\n<style scoped>\n    .dataframe tbody tr th:only-of-type {\n        vertical-align: middle;\n    }\n\n    .dataframe tbody tr th {\n        vertical-align: top;\n    }\n\n    .dataframe thead th {\n        text-align: right;\n    }\n</style>\n<table border=\"1\" class=\"dataframe\">\n  <thead>\n    <tr style=\"text-align: right;\">\n      <th></th>\n      <th>time</th>\n      <th>bid</th>\n      <th>ask</th>\n      <th>date</th>\n      <th>prev_high</th>\n      <th>prev_low</th>\n      <th>break_high</th>\n      <th>break_low</th>\n    </tr>\n  </thead>\n  <tbody>\n    <tr>\n      <th>0</th>\n      <td>2023-08-10 01:02:15</td>\n      <td>15901.5</td>\n      <td>15907.5</td>\n      <td>2023-08-10</td>\n      <td>15931.1</td>\n      <td>15829.2</td>\n      <td>0</td>\n      <td>0</td>\n    </tr>\n    <tr>\n      <th>1</th>\n      <td>2023-08-10 01:02:21</td>\n      <td>15901.3</td>\n      <td>15907.3</td>\n      <td>2023-08-10</td>\n      <td>15931.1</td>\n      <td>15829.2</td>\n      <td>0</td>\n      <td>0</td>\n    </tr>\n    <tr>\n      <th>2</th>\n      <td>2023-08-10 01:02:23</td>\n      <td>15901.1</td>\n      <td>15907.1</td>\n      <td>2023-08-10</td>\n      <td>15931.1</td>\n      <td>15829.2</td>\n      <td>0</td>\n      <td>0</td>\n    </tr>\n    <tr>\n      <th>3</th>\n      <td>2023-08-10 01:02:26</td>\n      <td>15901.5</td>\n      <td>15907.5</td>\n      <td>2023-08-10</td>\n      <td>15931.1</td>\n      <td>15829.2</td>\n      <td>0</td>\n      <td>0</td>\n    </tr>\n    <tr>\n      <th>4</th>\n      <td>2023-08-10 01:02:31</td>\n      <td>15901.3</td>\n      <td>15907.3</td>\n      <td>2023-08-10</td>\n      <td>15931.1</td>\n      <td>15829.2</td>\n      <td>0</td>\n      <td>0</td>\n    </tr>\n    <tr>\n      <th>...</th>\n      <td>...</td>\n      <td>...</td>\n      <td>...</td>\n      <td>...</td>\n      <td>...</td>\n      <td>...</td>\n      <td>...</td>\n      <td>...</td>\n    </tr>\n    <tr>\n      <th>1543055</th>\n      <td>2023-10-05 23:58:22</td>\n      <td>15102.1</td>\n      <td>15108.1</td>\n      <td>2023-10-05</td>\n      <td>15176.8</td>\n      <td>14943.8</td>\n      <td>0</td>\n      <td>0</td>\n    </tr>\n    <tr>\n      <th>1543056</th>\n      <td>2023-10-05 23:58:31</td>\n      <td>15101.9</td>\n      <td>15107.9</td>\n      <td>2023-10-05</td>\n      <td>15176.8</td>\n      <td>14943.8</td>\n      <td>0</td>\n      <td>0</td>\n    </tr>\n    <tr>\n      <th>1543057</th>\n      <td>2023-10-05 23:58:44</td>\n      <td>15101.6</td>\n      <td>15107.6</td>\n      <td>2023-10-05</td>\n      <td>15176.8</td>\n      <td>14943.8</td>\n      <td>0</td>\n      <td>0</td>\n    </tr>\n    <tr>\n      <th>1543058</th>\n      <td>2023-10-05 23:58:51</td>\n      <td>15101.4</td>\n      <td>15107.4</td>\n      <td>2023-10-05</td>\n      <td>15176.8</td>\n      <td>14943.8</td>\n      <td>0</td>\n      <td>0</td>\n    </tr>\n    <tr>\n      <th>1543059</th>\n      <td>2023-10-05 23:58:51</td>\n      <td>15101.6</td>\n      <td>15107.6</td>\n      <td>2023-10-05</td>\n      <td>15176.8</td>\n      <td>14943.8</td>\n      <td>0</td>\n      <td>0</td>\n    </tr>\n  </tbody>\n</table>\n<p>1543060 rows × 8 columns</p>\n</div>"
     },
     "execution_count": 33,
     "metadata": {},
     "output_type": "execute_result"
    }
   ],
   "source": [
    "ticks3 = ticks.merge(ticks2[['date', 'prev_high', 'prev_low']])\n",
    "ticks3['break_high'] = ticks3.apply(lambda x: 1 if x['bid'] > x['prev_high'] else 0, axis=1)\n",
    "ticks3['break_low'] = ticks3.apply(lambda x: 1 if x['ask'] < x['prev_low'] else 0, axis=1)\n",
    "ticks3"
   ],
   "metadata": {
    "collapsed": false,
    "pycharm": {
     "name": "#%%\n"
    }
   }
  },
  {
   "cell_type": "code",
   "execution_count": null,
   "outputs": [],
   "source": [
    "ticks3['first_break'] = ticks3"
   ],
   "metadata": {
    "collapsed": false,
    "pycharm": {
     "name": "#%%\n"
    }
   }
  }
 ],
 "metadata": {
  "kernelspec": {
   "display_name": "Python 3",
   "language": "python",
   "name": "python3"
  },
  "language_info": {
   "codemirror_mode": {
    "name": "ipython",
    "version": 2
   },
   "file_extension": ".py",
   "mimetype": "text/x-python",
   "name": "python",
   "nbconvert_exporter": "python",
   "pygments_lexer": "ipython2",
   "version": "2.7.6"
  }
 },
 "nbformat": 4,
 "nbformat_minor": 0
}